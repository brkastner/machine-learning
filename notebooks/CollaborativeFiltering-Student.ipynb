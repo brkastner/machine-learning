{
 "cells": [
  {
   "cell_type": "markdown",
   "metadata": {},
   "source": [
    "### Collaborative Filtering\n",
    "\n",
    "Jay Urbain, PhD\n",
    "\n",
    "**References:**\n",
    "\n",
    "Rajaraman, A., & Ullman, J. D. (2012). Mining of massive datasets (Vol. 1). Cambridge: Cambridge University Press.\n",
    "http://mmds.org/\n",
    "\n",
    "\n",
    "Thomas W. Malone and Michael S. Bernstein (Editors), The Collective Intelligence Handbook [tentative title], accessed April 24, 2016.\n",
    "\n",
    "- http://cci.mit.edu/CIchapterlinks.html\n",
    "- https://www.edge.org/conversation/thomas_w__malone-collective-intelligenceSegaran, T. (2007). Programming collective intelligence: building smart web 2.0 applications. \" O'Reilly Media, Inc.\"\n",
    "\n",
    "Surowiecki, J. (2005). The wisdom of crowds. Anchor.\n",
    "\n",
    "Georgi, S., & Jung, R. (2012). Collective intelligence model: How to describe collective intelligence. In Advances in Collective Intelligence 2011 (pp. 53-64). Springer Berlin Heidelberg. Retrieved January 2, 2014 from \n",
    "\n",
    "Kittur, A., & Kraut, R. E. (2008). Harnessing the wisdom of crowds in wikipedia: Quality through coordination. In Proceedings of the 2008 ACM conference on Computer supported cooperative work (pp. 37-46). ACM. Retrieved January 2, 2016. \n"
   ]
  },
  {
   "cell_type": "markdown",
   "metadata": {},
   "source": [
    "### Collective Intelligence\n",
    "\n",
    "Tomas Mallone:\n",
    "\n",
    "*\"Intelligence is not just something that happens inside individual brains. It also arises with groups of individuals. In fact, I'd define collective intelligence as groups of individuals acting collectively in ways that seem intelligent. By that definition, of course, collective intelligence has been around for a very long time. Families, companies, countries, and armies: those are all examples of groups of people working together in ways that at least sometimes seem intelligent.\"*"
   ]
  },
  {
   "cell_type": "markdown",
   "metadata": {},
   "source": [
    "### Collaborative Filtering\n",
    "\n",
    "Collective intelligence is shared or group intelligence that emerges from the collaboration, collective efforts, and competition of many individuals and appears in consensus decision making. \n",
    "\n",
    "Collaborative filtering is an application of collective intelligence where we can search a large group of people (or items) and find  people with similar preferences.\n",
    "\n",
    "Collaboraitve filtering was first used by David Goldberg at Xerox PARC in 1992 in a paper called *\"Using collaboritve filtering to weave an information tapestry.\"* He designed a system called *Tapestry* that allowed people annotate a document as interesting or not interesting and used this information to filter documents for other people.\n",
    "\n",
    "Collaborative filtering systems have many forms, but many common systems can be reduced to two steps:\n",
    "\n",
    "1. Look for users who share the same rating patterns with the active user (the user whom the prediction is for).\n",
    "2. Use the ratings from those like-minded users found in step 1 to calculate a prediction for the active user.\n",
    "\n",
    "This falls under the category of user-based collaborative filtering. A specific application of this is the user-based Nearest Neighbor algorithm.\n",
    "\n",
    "Alternatively, item-based collaborative filtering (users who bought x also bought y), proceeds in an item-centric manner:\n",
    "\n",
    "1. Build an item-item matrix determining relationships between pairs of items\n",
    "2. Infer the tastes of the current user by examining the matrix and matching that user's data\n",
    "\n",
    "Below, we look at a basic example for each case."
   ]
  },
  {
   "cell_type": "markdown",
   "metadata": {},
   "source": [
    "### Collecting Preferences\n",
    "\n",
    "People and their ratings from *1 to 5*."
   ]
  },
  {
   "cell_type": "code",
   "execution_count": 1,
   "metadata": {
    "collapsed": true
   },
   "outputs": [],
   "source": [
    "# A nested dictionary of movie reviewers and their ratings of a set of movies\n",
    "reviews={'Olga Imas': {'Lady in the Water': 2.5, 'Snakes on a Plane': 3.8,\n",
    " 'Just My Luck': 3.0, 'Superman Returns': 3.5, 'You, Me and Dupree': 2.5, \n",
    " 'The Night Listener': 3.0},\n",
    "'Russ Meier': {'Lady in the Water': 3.0, 'Snakes on a Plane': 3.5, \n",
    " 'Just My Luck': 1.5, 'Superman Returns': 5.0, 'The Night Listener': 3.0, \n",
    " 'You, Me and Dupree': 3.5}, \n",
    "'Eric Durant': {'Lady in the Water': 2.5, 'Snakes on a Plane': 3.0,\n",
    " 'Superman Returns': 3.5, 'The Night Listener': 4.0, 'You, Me and Dupree':4.2},\n",
    "'Steve Williams': {'Snakes on a Plane': 3.5, 'Just My Luck': 3.0,\n",
    " 'The Night Listener': 4.5, 'Superman Returns': 4.0, \n",
    " 'You, Me and Dupree': 2.5},\n",
    "'Chris Taylor': {'Lady in the Water': 3.0, 'Snakes on a Plane': 4.0, \n",
    " 'Just My Luck': 2.0, 'Superman Returns': 3.0, 'The Night Listener': 3.0,\n",
    " 'You, Me and Dupree': 2.0}, \n",
    "'Mark Hornick': {'Lady in the Water': 3.0, 'Snakes on a Plane': 4.0,\n",
    " 'The Night Listener': 3.0, 'Superman Returns': 5.0, 'You, Me and Dupree': 3.5},\n",
    "'Jay Urbain': {'Snakes on a Plane':4.4,'You, Me and Dupree':1.0,'Superman Returns':4.0}}"
   ]
  },
  {
   "cell_type": "code",
   "execution_count": 2,
   "metadata": {
    "collapsed": false
   },
   "outputs": [
    {
     "name": "stdout",
     "output_type": "stream",
     "text": [
      "3.5\n",
      "{'Just My Luck': 1.5, 'Superman Returns': 5.0, 'You, Me and Dupree': 3.5, 'Snakes on a Plane': 3.5, 'Lady in the Water': 3.0, 'The Night Listener': 3.0}\n"
     ]
    }
   ],
   "source": [
    "# Validate\n",
    "print(reviews['Russ Meier']['Snakes on a Plane'])\n",
    "print(reviews['Russ Meier'])"
   ]
  },
  {
   "cell_type": "markdown",
   "metadata": {},
   "source": [
    "### Finding similar people\n",
    "\n",
    "Defining a similarity score to compare each person with every other person.\n",
    "\n",
    "Two basic methods:\n",
    "- Euclidean distance\n",
    "- Pearson correlation coefficient\n",
    "\n",
    "Many more:\n",
    "- Jaccard similarity\n",
    "- Cosine similarity\n",
    "- Association rules"
   ]
  },
  {
   "cell_type": "markdown",
   "metadata": {},
   "source": [
    "### Preference space\n",
    "\n",
    "A similarity score can be calculated between people in a movie review preference space.\n",
    "\n",
    "The following code generates the figure below showing people ploted in a preference space of two movies. As we add additional movies we move to a higher dimensional preference space."
   ]
  },
  {
   "cell_type": "code",
   "execution_count": 6,
   "metadata": {
    "collapsed": false
   },
   "outputs": [
    {
     "name": "stdout",
     "output_type": "stream",
     "text": [
      "Russ Meier 3.5 3.5\n",
      "Eric Durant 4.2 3.0\n",
      "Jay Urbain 1.0 4.4\n",
      "Chris Taylor 2.0 4.0\n",
      "Steve Williams 2.5 3.5\n",
      "Olga Imas 2.5 3.8\n",
      "Mark Hornick 3.5 4.0\n"
     ]
    },
    {
     "data": {
      "image/png": "[encoded data removed]",
      "text/plain": [
       "<matplotlib.figure.Figure at 0x7fe7ac3569e8>"
      ]
     },
     "metadata": {},
     "output_type": "display_data"
    }
   ],
   "source": [
    "import matplotlib.pyplot as plt\n",
    "%matplotlib inline\n",
    "\n",
    "X = []\n",
    "Y = []\n",
    "labels = []\n",
    "colors = list(\"rgbcmyk\")\n",
    "for label in reviews.keys():\n",
    "    review_dict = reviews.get(label)\n",
    "    if 'You, Me and Dupree' in review_dict and 'Snakes on a Plane' in review_dict:\n",
    "        x = review_dict['You, Me and Dupree']\n",
    "        y = review_dict['Snakes on a Plane']\n",
    "        #print x, y\n",
    "        X.append(x)\n",
    "        Y.append(y)\n",
    "        labels.append(label)\n",
    "        plt.scatter(x,y,color=colors.pop())\n",
    "\n",
    "for label, x, y in zip(labels, X, Y):\n",
    "    print(label, x, y)\n",
    "    plt.annotate(\n",
    "        label, \n",
    "        xy = (x, y), xytext = (-10, 10),\n",
    "        textcoords = 'offset points', ha = 'right', va = 'bottom',\n",
    "    #    bbox = dict(boxstyle = 'round,pad=0.5', fc = 'yellow', alpha = 0.5),\n",
    "        arrowprops = dict(arrowstyle = '->', connectionstyle = 'arc3,rad=0')\n",
    "    )\n",
    "    \n",
    "#plt.legend(labels)\n",
    "plt.ylabel('Snakes')\n",
    "plt.xlabel('Dupree')\n",
    "plt.title('People in Snakes vs. Dupree preference space')\n",
    "plt.show()"
   ]
  },
  {
   "cell_type": "markdown",
   "metadata": {},
   "source": [
    "### Euclidean distance\n",
    "\n",
    "A basic similarity score can be calculated using the Euclidean distance between any two people in this preference space.\n",
    "\n",
    "$d = \\sqrt{ \\sum_i^n(p_i-q_i)^2}$"
   ]
  },
  {
   "cell_type": "code",
   "execution_count": 10,
   "metadata": {
    "collapsed": false
   },
   "outputs": [
    {
     "name": "stdout",
     "output_type": "stream",
     "text": [
      "Hornick and Williams distance preference space:\n",
      "1.118033988749895\n",
      "Hornick and Durant distance in preference space:\n",
      "1.2206555615733703\n"
     ]
    }
   ],
   "source": [
    "from math import sqrt\n",
    "\n",
    "def distance(x1, y1, x2, y2):\n",
    "    return sqrt( pow(x1-x2,2)+pow(y1-y2,2) )\n",
    "\n",
    "print('Hornick and Williams distance preference space:')\n",
    "print(distance(reviews['Mark Hornick']['Snakes on a Plane'],\n",
    "               reviews['Mark Hornick']['You, Me and Dupree'],\n",
    "               reviews['Steve Williams']['Snakes on a Plane'],\n",
    "               reviews['Steve Williams']['You, Me and Dupree']))\n",
    "\n",
    "print('Hornick and Durant distance in preference space:')\n",
    "print(distance(reviews['Mark Hornick']['Snakes on a Plane'],\n",
    "               reviews['Mark Hornick']['You, Me and Dupree'],\n",
    "               reviews['Eric Durant']['Snakes on a Plane'],\n",
    "               reviews['Eric Durant']['You, Me and Dupree']))"
   ]
  },
  {
   "cell_type": "markdown",
   "metadata": {},
   "source": [
    "We can convert the distance measurement into a similarity coefficient $SC$ by inverting the distance and adding 1 (to prevent divide by zero). This function will always return a result between 0 and 1. Where 1 indicates people have identical preferences.\n",
    "\n",
    "$sc = \\dfrac{1}{1+\\sqrt{ \\sum_i^n(p_i-q_i)^2}}$\n"
   ]
  },
  {
   "cell_type": "markdown",
   "metadata": {},
   "source": [
    "#### Q1) Calculate a similarity coefficient (using the sc formula above) for Mark Honick and Steve Williams for the movies: 'Snakes on a Plane' and 'You, Me and Dupree'.\n"
   ]
  },
  {
   "cell_type": "code",
   "execution_count": 85,
   "metadata": {
    "collapsed": false
   },
   "outputs": [
    {
     "data": {
      "text/plain": [
       "0.4503174725987149"
      ]
     },
     "execution_count": 85,
     "metadata": {},
     "output_type": "execute_result"
    }
   ],
   "source": [
    "def sc(prefs, user1, user2, movie1, movie2):\n",
    "    return 1 / (1 + distance(prefs[user1][movie1], prefs[user1][movie2], prefs[user2][movie1], prefs[user2][movie2]))\n",
    "sc(reviews, 'Mark Hornick', 'Eric Durant', 'Snakes on a Plane', 'You, Me and Dupree')"
   ]
  },
  {
   "cell_type": "markdown",
   "metadata": {},
   "source": [
    "#### Q2) Encapsulate the Euclidean-based similarity coefficient into a function *sim_distance(prefs, person1, person2)* that calculates the similarity between *person1* and *person2* across all reviews.\n",
    "\n",
    "Calculate the sc for the following:\n",
    "\n",
    "sim_distance(reviews , 'Mark Hornick', 'Steve Williams')"
   ]
  },
  {
   "cell_type": "code",
   "execution_count": 86,
   "metadata": {
    "collapsed": true
   },
   "outputs": [],
   "source": [
    "import numpy as np\n",
    "\n",
    "def sim_distance(prefs, person1, person2):\n",
    "    pairs = []\n",
    "    for movie1 in prefs[person1].keys():\n",
    "        for movie2 in prefs[person2].keys():\n",
    "            if movie1 == movie2 or movie1 not in prefs[person2] or movie2 not in prefs[person1]:\n",
    "                continue\n",
    "            pairs.append((movie1, movie2))\n",
    "    return np.mean([sc(prefs, person1, person2, m1, m2) for m1, m2 in pairs])"
   ]
  },
  {
   "cell_type": "code",
   "execution_count": 27,
   "metadata": {
    "collapsed": false
   },
   "outputs": [
    {
     "data": {
      "text/plain": [
       "0.40991495062428479"
      ]
     },
     "execution_count": 27,
     "metadata": {},
     "output_type": "execute_result"
    }
   ],
   "source": [
    "sim_distance(reviews , 'Mark Hornick', 'Steve Williams')"
   ]
  },
  {
   "cell_type": "markdown",
   "metadata": {},
   "source": [
    "### Pearson correlation coefficient\n",
    "\n",
    "The Pearson correlation coefficient is a measure of the linear correlation between two variables $X$ and $Y$, giving a value between +1 and −1 inclusive. A value of 1 indicates total positive correlation, 0 indicates no correlation, and −1 indicates total negative correlation. It is a widely used measure of the degree of linear dependence between two variables, i.e., how two variables fit a straight line.\n",
    "\n",
    "$r = \\dfrac{ \\sum_{i=1}^{n}(x_i-\\bar{x})(y_i-\\bar{y})}{\\sqrt{(x_i-\\bar{x})^2}\\sqrt{(y_i-\\bar{y})^2}}$\n",
    "\n",
    "*Note: Correlation is essentially a mean-centered cosine score that measures how two variables vary with respect to each other. It corrects for one reviewer consisitantly rating higher or lower than another reviewer. I.e., corrects for rater inflation.*\n",
    "\n",
    "A similarity function based on the Pearson Correlation coefficent is provided for you below:"
   ]
  },
  {
   "cell_type": "code",
   "execution_count": 87,
   "metadata": {
    "collapsed": true
   },
   "outputs": [],
   "source": [
    "# Returns the Pearson correlation coefficient for p1 and p2\n",
    "def sim_corr(prefs,p1,p2):\n",
    "  # Get the list of mutually rated items\n",
    "  si={}\n",
    "  for item in prefs[p1]: \n",
    "    if item in prefs[p2]: si[item]=1\n",
    "\n",
    "  # if they are no ratings in common, return 0\n",
    "  if len(si)==0: return 0\n",
    "\n",
    "  # Sum calculations\n",
    "  n=len(si)\n",
    "  \n",
    "  # Sums of all the preferences\n",
    "  sum1=sum([prefs[p1][it] for it in si])\n",
    "  sum2=sum([prefs[p2][it] for it in si])\n",
    "  \n",
    "  # Sums of the squares\n",
    "  sum1Sq=sum([pow(prefs[p1][it],2) for it in si])\n",
    "  sum2Sq=sum([pow(prefs[p2][it],2) for it in si])\t\n",
    "  \n",
    "  # Sum of the products\n",
    "  pSum=sum([prefs[p1][it]*prefs[p2][it] for it in si])\n",
    "  \n",
    "  # Calculate r (Pearson score)\n",
    "  num=pSum-(sum1*sum2/n)\n",
    "  den=sqrt((sum1Sq-pow(sum1,2)/n)*(sum2Sq-pow(sum2,2)/n))\n",
    "  if den==0: return 0\n",
    "\n",
    "  r=num/den\n",
    "\n",
    "  return r"
   ]
  },
  {
   "cell_type": "code",
   "execution_count": 30,
   "metadata": {
    "collapsed": false
   },
   "outputs": [
    {
     "name": "stdout",
     "output_type": "stream",
     "text": [
      "0.02857142857142857\n"
     ]
    }
   ],
   "source": [
    "# validate:\n",
    "\n",
    "print(sim_corr(reviews, 'Mark Hornick', 'Steve Williams'))"
   ]
  },
  {
   "cell_type": "markdown",
   "metadata": {},
   "source": [
    "### Ranking the reviewers\n",
    "\n",
    "Given functions for measuring the similarity between two reviewers, we can now measure the similarity of all reviewers with respect to an individual."
   ]
  },
  {
   "cell_type": "markdown",
   "metadata": {},
   "source": [
    "#### Q3) Write a function: *top_matches(prefs,person,n=5,similarity=sim_corr)* that returns a list of (similarity score, person) in reverse descending order.\n",
    "\n",
    "Example:\n",
    "\n",
    "top_matches(reviews, 'Jay Urbain', n=3)\n",
    "\n",
    "[(0.9934684334927036, 'Olga Imas'),\n",
    "\n",
    " (0.9148074042510733, 'Chris Taylor'),\n",
    " \n",
    " (0.9041944301794687, 'Steve Williams')]\n"
   ]
  },
  {
   "cell_type": "code",
   "execution_count": 88,
   "metadata": {
    "collapsed": false
   },
   "outputs": [],
   "source": [
    "def top_matches(prefs, person, n=5, similarity=sim_corr):\n",
    "    matches = [(similarity(prefs, person, p2), p2) for p2 in prefs.keys() if p2 != person]\n",
    "    return sorted(matches, key=lambda x: x[0], reverse=True)"
   ]
  },
  {
   "cell_type": "code",
   "execution_count": 36,
   "metadata": {
    "collapsed": false
   },
   "outputs": [
    {
     "data": {
      "text/plain": [
       "[(0.9934684334927036, 'Olga Imas'),\n",
       " (0.9148074042510733, 'Chris Taylor'),\n",
       " (0.9041944301794687, 'Steve Williams'),\n",
       " (0.6810815188364824, 'Mark Hornick'),\n",
       " (0.40389034790078143, 'Russ Meier'),\n",
       " (-0.94928705007467, 'Eric Durant')]"
      ]
     },
     "execution_count": 36,
     "metadata": {},
     "output_type": "execute_result"
    }
   ],
   "source": [
    "top_matches(reviews, 'Jay Urbain', n=3)"
   ]
  },
  {
   "cell_type": "markdown",
   "metadata": {},
   "source": [
    "### Recommending items\n",
    "\n",
    "First, lets reivew our recommendations database:"
   ]
  },
  {
   "cell_type": "code",
   "execution_count": 39,
   "metadata": {
    "collapsed": false
   },
   "outputs": [],
   "source": [
    "class dict_table(dict):\n",
    "    # Overridden dict class which takes a dict in the form {'a': 2, 'b': 3},\n",
    "    # and renders an HTML Table in IPython Notebook.\n",
    "    def _repr_html_(self):\n",
    "        html = [\"<table width=100%>\"]\n",
    "        for key, value in self.items():\n",
    "            html.append(\"<tr>\")\n",
    "            html.append(\"<td>{0}</td>\".format(key))\n",
    "            html.append(\"<td>{0}</td>\".format(value))\n",
    "            html.append(\"</tr>\")\n",
    "        html.append(\"</table>\")\n",
    "        return ''.join(html)"
   ]
  },
  {
   "cell_type": "code",
   "execution_count": 41,
   "metadata": {
    "collapsed": false
   },
   "outputs": [
    {
     "data": {
      "text/html": [
       "<table width=100%><tr><td>Russ Meier</td><td>{'Just My Luck': 1.5, 'Superman Returns': 5.0, 'You, Me and Dupree': 3.5, 'Snakes on a Plane': 3.5, 'Lady in the Water': 3.0, 'The Night Listener': 3.0}</td></tr><tr><td>Eric Durant</td><td>{'You, Me and Dupree': 4.2, 'Superman Returns': 3.5, 'Lady in the Water': 2.5, 'The Night Listener': 4.0, 'Snakes on a Plane': 3.0}</td></tr><tr><td>Jay Urbain</td><td>{'You, Me and Dupree': 1.0, 'Superman Returns': 4.0, 'Snakes on a Plane': 4.4}</td></tr><tr><td>Chris Taylor</td><td>{'Just My Luck': 2.0, 'Superman Returns': 3.0, 'You, Me and Dupree': 2.0, 'Snakes on a Plane': 4.0, 'Lady in the Water': 3.0, 'The Night Listener': 3.0}</td></tr><tr><td>Steve Williams</td><td>{'You, Me and Dupree': 2.5, 'Just My Luck': 3.0, 'Superman Returns': 4.0, 'The Night Listener': 4.5, 'Snakes on a Plane': 3.5}</td></tr><tr><td>Olga Imas</td><td>{'Just My Luck': 3.0, 'Superman Returns': 3.5, 'You, Me and Dupree': 2.5, 'Snakes on a Plane': 3.8, 'Lady in the Water': 2.5, 'The Night Listener': 3.0}</td></tr><tr><td>Mark Hornick</td><td>{'You, Me and Dupree': 3.5, 'Superman Returns': 5.0, 'The Night Listener': 3.0, 'Lady in the Water': 3.0, 'Snakes on a Plane': 4.0}</td></tr></table>"
      ],
      "text/plain": [
       "{'Chris Taylor': {'Just My Luck': 2.0,\n",
       "  'Lady in the Water': 3.0,\n",
       "  'Snakes on a Plane': 4.0,\n",
       "  'Superman Returns': 3.0,\n",
       "  'The Night Listener': 3.0,\n",
       "  'You, Me and Dupree': 2.0},\n",
       " 'Eric Durant': {'Lady in the Water': 2.5,\n",
       "  'Snakes on a Plane': 3.0,\n",
       "  'Superman Returns': 3.5,\n",
       "  'The Night Listener': 4.0,\n",
       "  'You, Me and Dupree': 4.2},\n",
       " 'Jay Urbain': {'Snakes on a Plane': 4.4,\n",
       "  'Superman Returns': 4.0,\n",
       "  'You, Me and Dupree': 1.0},\n",
       " 'Mark Hornick': {'Lady in the Water': 3.0,\n",
       "  'Snakes on a Plane': 4.0,\n",
       "  'Superman Returns': 5.0,\n",
       "  'The Night Listener': 3.0,\n",
       "  'You, Me and Dupree': 3.5},\n",
       " 'Olga Imas': {'Just My Luck': 3.0,\n",
       "  'Lady in the Water': 2.5,\n",
       "  'Snakes on a Plane': 3.8,\n",
       "  'Superman Returns': 3.5,\n",
       "  'The Night Listener': 3.0,\n",
       "  'You, Me and Dupree': 2.5},\n",
       " 'Russ Meier': {'Just My Luck': 1.5,\n",
       "  'Lady in the Water': 3.0,\n",
       "  'Snakes on a Plane': 3.5,\n",
       "  'Superman Returns': 5.0,\n",
       "  'The Night Listener': 3.0,\n",
       "  'You, Me and Dupree': 3.5},\n",
       " 'Steve Williams': {'Just My Luck': 3.0,\n",
       "  'Snakes on a Plane': 3.5,\n",
       "  'Superman Returns': 4.0,\n",
       "  'The Night Listener': 4.5,\n",
       "  'You, Me and Dupree': 2.5}}"
      ]
     },
     "execution_count": 41,
     "metadata": {},
     "output_type": "execute_result"
    }
   ],
   "source": [
    "# review ratings\n",
    "dict_table(reviews)"
   ]
  },
  {
   "cell_type": "markdown",
   "metadata": {},
   "source": [
    "#### Q4) Get recommendations\n",
    "\n",
    "We've defined methods for measuring the similarity of users, but ultimately we need to make recommendations. \n",
    "\n",
    "The data is too sparse to rely only one or even a few reviewers. To make a recommendation for a particular person, score each item by producing a weighted sum over the ratings of each reviewer. The weight assigned to each reviewer is the similarity of that reviewer to the person we are making the recommendation to.\n",
    "\n",
    "I.e., take the ratings of all the other reviewers and multiply how similar they are to any particaular person by the score they give to each movie.\n",
    "\n",
    "Write the function *get_recommendations(prefs,person,similarity=sim_corr)*\n",
    "\n",
    "Example:\n",
    "get_recommendations(reviews, 'Jay Urbain')\n",
    "\n",
    "Out[154]:\n",
    "\n",
    "[(3.3479953257567336, 'The Night Listener'),\n",
    "\n",
    " (2.8340484096913476, 'Lady in the Water'),\n",
    " \n",
    " (2.5272162833293925, 'Just My Luck')]\n",
    " \n",
    " Psuedo code: \n",
    " \n",
    "- Iterate through each user in *prefs*\n",
    "- If the reviewer is not the recomendee \n",
    "    - Calculate the similarity between that reviewer and the recommendee\n",
    "    - For each item this reviewer has reviewed that has not been seen by the recomendee\n",
    "        - Calculate a weighted rating for this item\n",
    "        - Add this weighted rating to the total for this item\n",
    "- Be sure to create a normalized ratings list by dividing the total rating for each item by the total similarity scores for each item\n",
    "- Sort in descending order"
   ]
  },
  {
   "cell_type": "code",
   "execution_count": 89,
   "metadata": {
    "collapsed": false
   },
   "outputs": [],
   "source": [
    "import operator\n",
    "\n",
    "def get_recommendations(prefs, person, similarity=sim_corr):\n",
    "    movies = {}\n",
    "    for reviewer in prefs.keys():\n",
    "        if reviewer == person:\n",
    "            continue\n",
    "        sim = similarity(prefs, person, reviewer)\n",
    "        for movie, rating in prefs[reviewer].items():\n",
    "            if movie not in prefs[person]:\n",
    "                if movie not in movies:\n",
    "                    movies[movie] = []\n",
    "                movies[movie].append((sim * rating, sim))\n",
    "    rec = {}\n",
    "    for movie, values in movies.items():\n",
    "        rec[movie] = sum([v[0] for v in values]) / sum([v[1] for v in values])\n",
    "    return sorted(rec.items(), key=operator.itemgetter(1), reverse=True)\n",
    "        "
   ]
  },
  {
   "cell_type": "code",
   "execution_count": 46,
   "metadata": {
    "collapsed": false
   },
   "outputs": [
    {
     "data": {
      "text/plain": [
       "[('The Night Listener', 3.138053997675536),\n",
       " ('Lady in the Water', 2.9891922128435335),\n",
       " ('Just My Luck', 2.5272162833293934)]"
      ]
     },
     "execution_count": 46,
     "metadata": {},
     "output_type": "execute_result"
    }
   ],
   "source": [
    "get_recommendations(reviews, 'Jay Urbain')"
   ]
  },
  {
   "cell_type": "markdown",
   "metadata": {},
   "source": [
    "### Matching items\n",
    "\n",
    "Determine which products are similar to each other by looking at who liked a particular item, and seeing the other things they like. Basically the same method used to make recommendations, but we need to swap the people and the items.\n",
    "\n",
    "First, generate a dictionary by switching people and items:"
   ]
  },
  {
   "cell_type": "code",
   "execution_count": 90,
   "metadata": {
    "collapsed": false
   },
   "outputs": [],
   "source": [
    "def transform_prefs(prefs):\n",
    "    result={}\n",
    "    for person in prefs:\n",
    "        for item in prefs[person]:\n",
    "            result.setdefault(item,{})\n",
    "      \n",
    "            # Flip item and person\n",
    "            result[item][person]=prefs[person][item]\n",
    "    return result"
   ]
  },
  {
   "cell_type": "code",
   "execution_count": 91,
   "metadata": {
    "collapsed": false
   },
   "outputs": [
    {
     "data": {
      "text/plain": [
       "{'Just My Luck': {'Chris Taylor': 2.0,\n",
       "  'Olga Imas': 3.0,\n",
       "  'Russ Meier': 1.5,\n",
       "  'Steve Williams': 3.0},\n",
       " 'Lady in the Water': {'Chris Taylor': 3.0,\n",
       "  'Eric Durant': 2.5,\n",
       "  'Mark Hornick': 3.0,\n",
       "  'Olga Imas': 2.5,\n",
       "  'Russ Meier': 3.0},\n",
       " 'Snakes on a Plane': {'Chris Taylor': 4.0,\n",
       "  'Eric Durant': 3.0,\n",
       "  'Jay Urbain': 4.4,\n",
       "  'Mark Hornick': 4.0,\n",
       "  'Olga Imas': 3.8,\n",
       "  'Russ Meier': 3.5,\n",
       "  'Steve Williams': 3.5},\n",
       " 'Superman Returns': {'Chris Taylor': 3.0,\n",
       "  'Eric Durant': 3.5,\n",
       "  'Jay Urbain': 4.0,\n",
       "  'Mark Hornick': 5.0,\n",
       "  'Olga Imas': 3.5,\n",
       "  'Russ Meier': 5.0,\n",
       "  'Steve Williams': 4.0},\n",
       " 'The Night Listener': {'Chris Taylor': 3.0,\n",
       "  'Eric Durant': 4.0,\n",
       "  'Mark Hornick': 3.0,\n",
       "  'Olga Imas': 3.0,\n",
       "  'Russ Meier': 3.0,\n",
       "  'Steve Williams': 4.5},\n",
       " 'You, Me and Dupree': {'Chris Taylor': 2.0,\n",
       "  'Eric Durant': 4.2,\n",
       "  'Jay Urbain': 1.0,\n",
       "  'Mark Hornick': 3.5,\n",
       "  'Olga Imas': 2.5,\n",
       "  'Russ Meier': 3.5,\n",
       "  'Steve Williams': 2.5}}"
      ]
     },
     "execution_count": 91,
     "metadata": {},
     "output_type": "execute_result"
    }
   ],
   "source": [
    "movies = transform_prefs(reviews)\n",
    "movies"
   ]
  },
  {
   "cell_type": "code",
   "execution_count": 92,
   "metadata": {
    "collapsed": false
   },
   "outputs": [
    {
     "data": {
      "text/plain": [
       "[(0.4879500364742689, 'Lady in the Water'),\n",
       " (0.3338959216379967, 'You, Me and Dupree'),\n",
       " (0.04805693313321856, 'Snakes on a Plane'),\n",
       " (-0.1798471947990544, 'The Night Listener'),\n",
       " (-0.42289003161103106, 'Just My Luck')]"
      ]
     },
     "execution_count": 92,
     "metadata": {},
     "output_type": "execute_result"
    }
   ],
   "source": [
    "top_matches(movies, 'Superman Returns')"
   ]
  },
  {
   "cell_type": "markdown",
   "metadata": {},
   "source": [
    "### Item based filtering\n",
    "\n",
    "Our work so far has required the use of all the ranking from every user in order to create a dataset. This is refereed to as **user-based collaborative filtering.** This will work well for a small dataset, but not a large one. Further, we would like to gain insight into the correlation between items.\n",
    "\n",
    "In large datasets, **item-based collaborative filtering**, will give better results, and it allows the results to be calculated in advance. The basic technique is as follows:\n",
    "- Compute the most similar items for each item.\n",
    "When you need to make a recommendation to a user, look at their top-rated items and create a weighted list of the items most similar to those.\n",
    "\n",
    "The important difference is that although the first step requires examination of all of the data, comparisons between items will not change as often as comparisons between users.\n",
    "\n",
    "First, calculate similarity between all items. The function inverts the reviews using the transform_preferences function, giving a list of items along with how they were rate by each user.\n",
    "\n",
    "It then loops over every item and passes the transformed dictionary to the top_matches function to get the most similar items along with their similarity scores.\n",
    "\n",
    "Finally, it creates and returns a dictionary of items along with a list of their most similar items.\n"
   ]
  },
  {
   "cell_type": "code",
   "execution_count": 95,
   "metadata": {
    "collapsed": false
   },
   "outputs": [],
   "source": [
    "def calculate_similar_items(prefs,n=10):\n",
    "    # Create a dictionary of items showing which other items they\n",
    "    # are most similar to.\n",
    "    result={}\n",
    "    # Invert the preference matrix to be item-centric\n",
    "    itemPrefs=transform_prefs(prefs)\n",
    "    c=0\n",
    "    for item in itemPrefs:\n",
    "        # Status updates for large datasets\n",
    "        c+=1\n",
    "        if c%100==0: print(\"%d / %d\" % (c,len(itemPrefs)))\n",
    "        # Find the most similar items to this one\n",
    "        scores=top_matches(itemPrefs,item,n=n,similarity=sim_distance)\n",
    "        result[item]=scores\n",
    "    return result"
   ]
  },
  {
   "cell_type": "code",
   "execution_count": 96,
   "metadata": {
    "collapsed": false
   },
   "outputs": [
    {
     "data": {
      "text/plain": [
       "{'Just My Luck': [(0.48428606228573173, 'You, Me and Dupree'),\n",
       "  (0.40545033801590113, 'Lady in the Water'),\n",
       "  (0.38899259761128374, 'The Night Listener'),\n",
       "  (0.34385531783666773, 'Snakes on a Plane'),\n",
       "  (0.33499934338342885, 'Superman Returns')],\n",
       " 'Lady in the Water': [(0.65874258867227931, 'The Night Listener'),\n",
       "  (0.47917004532255258, 'You, Me and Dupree'),\n",
       "  (0.44819118783247036, 'Snakes on a Plane'),\n",
       "  (0.40545033801590113, 'Just My Luck'),\n",
       "  (0.35781520815032924, 'Superman Returns')],\n",
       " 'Snakes on a Plane': [(0.48832036557539943, 'Superman Returns'),\n",
       "  (0.44819118783247036, 'Lady in the Water'),\n",
       "  (0.44281953988328132, 'The Night Listener'),\n",
       "  (0.35157666331421822, 'You, Me and Dupree'),\n",
       "  (0.34385531783666773, 'Just My Luck')],\n",
       " 'Superman Returns': [(0.48832036557539943, 'Snakes on a Plane'),\n",
       "  (0.44300131085157191, 'The Night Listener'),\n",
       "  (0.3578152081503293, 'Lady in the Water'),\n",
       "  (0.33499934338342885, 'Just My Luck'),\n",
       "  (0.33148133189541679, 'You, Me and Dupree')],\n",
       " 'The Night Listener': [(0.65874258867227931, 'Lady in the Water'),\n",
       "  (0.48266237778776167, 'You, Me and Dupree'),\n",
       "  (0.44300131085157191, 'Superman Returns'),\n",
       "  (0.44281953988328132, 'Snakes on a Plane'),\n",
       "  (0.3889925976112838, 'Just My Luck')],\n",
       " 'You, Me and Dupree': [(0.48428606228573173, 'Just My Luck'),\n",
       "  (0.48266237778776167, 'The Night Listener'),\n",
       "  (0.47917004532255258, 'Lady in the Water'),\n",
       "  (0.35157666331421822, 'Snakes on a Plane'),\n",
       "  (0.33148133189541679, 'Superman Returns')]}"
      ]
     },
     "execution_count": 96,
     "metadata": {},
     "output_type": "execute_result"
    }
   ],
   "source": [
    "# calculate similar items\n",
    "item_sim = calculate_similar_items(reviews, n=10)\n",
    "item_sim"
   ]
  },
  {
   "cell_type": "markdown",
   "metadata": {},
   "source": [
    "### Getting recommended items by item-item based collaborative filtering\n",
    "\n",
    "#### Q5 - Extra credit:\n",
    "\n",
    "Write the function:\n",
    "\n",
    "*get_recommended_items(prefs, itemMatch, user)*\n",
    "\n",
    "Example:\n",
    "\n",
    "get_recommended_items(reviews, item_sim, 'Jay Urbain')\n",
    "\n",
    "Out[176]:\n",
    "\n",
    "[(3.1089186062359166, 'The Night Listener'),\n",
    "\n",
    " (2.9778329815363747, 'Lady in the Water'),\n",
    " \n",
    " (2.5465112309687994, 'Just My Luck')]\n",
    " "
   ]
  },
  {
   "cell_type": "code",
   "execution_count": 103,
   "metadata": {
    "collapsed": false
   },
   "outputs": [],
   "source": [
    " def get_recommended_items(prefs, itemMatch, user):\n",
    "    pass"
   ]
  },
  {
   "cell_type": "code",
   "execution_count": 104,
   "metadata": {
    "collapsed": false
   },
   "outputs": [],
   "source": [
    "get_recommended_items(reviews, item_sim, 'Jay Urbain')"
   ]
  }
 ],
 "metadata": {
  "kernelspec": {
   "display_name": "Python 3",
   "language": "python",
   "name": "python3"
  },
  "language_info": {
   "codemirror_mode": {
    "name": "ipython",
    "version": 3
   },
   "file_extension": ".py",
   "mimetype": "text/x-python",
   "name": "python",
   "nbconvert_exporter": "python",
   "pygments_lexer": "ipython3",
   "version": "3.5.1"
  }
 },
 "nbformat": 4,
 "nbformat_minor": 0
}
